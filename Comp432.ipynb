{
 "cells": [
  {
   "cell_type": "code",
   "execution_count": 3,
   "id": "b74ac543",
   "metadata": {},
   "outputs": [],
   "source": [
    "# Basic includes.\n",
    "\n",
    "import numpy as np\n",
    "import matplotlib.pyplot as plt\n",
    "import sklearn\n",
    "import torch\n",
    "import torchvision\n",
    "\n",
    "# Do we need pandas, etc?"
   ]
  },
  {
   "cell_type": "code",
   "execution_count": 4,
   "id": "3c2bc3b5",
   "metadata": {},
   "outputs": [],
   "source": [
    "# Download and load the first dataset.\n",
    "\n",
    "# Preprocess the data.\n",
    "# What do we need to do? Normalization, etc."
   ]
  },
  {
   "cell_type": "code",
   "execution_count": 5,
   "id": "10b98c7f",
   "metadata": {},
   "outputs": [],
   "source": [
    "# Declare the model\n",
    "# https://pytorch.org/vision/main/models/generated/torchvision.models.resnet18.html\n",
    "\n",
    "resnet18 = torchvision.models.resnet18() # Do we need any special parameters?"
   ]
  },
  {
   "cell_type": "code",
   "execution_count": null,
   "id": "e51e20ab",
   "metadata": {},
   "outputs": [],
   "source": [
    "# Train the model with the dataset."
   ]
  }
 ],
 "metadata": {
  "kernelspec": {
   "display_name": "Python 3 (ipykernel)",
   "language": "python",
   "name": "python3"
  },
  "language_info": {
   "codemirror_mode": {
    "name": "ipython",
    "version": 3
   },
   "file_extension": ".py",
   "mimetype": "text/x-python",
   "name": "python",
   "nbconvert_exporter": "python",
   "pygments_lexer": "ipython3",
   "version": "3.9.18"
  }
 },
 "nbformat": 4,
 "nbformat_minor": 5
}
